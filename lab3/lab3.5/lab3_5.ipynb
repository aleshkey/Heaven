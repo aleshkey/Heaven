{
 "cells": [
  {
   "cell_type": "code",
   "execution_count": 5,
   "metadata": {},
   "outputs": [
    {
     "name": "stderr",
     "output_type": "stream",
     "text": [
      "C:\\Users\\User\\AppData\\Local\\Temp\\ipykernel_2452\\1081702733.py:5: DtypeWarning: Columns (4,6,31,33,61,62,63,76,79,90,92,94,96,114,115,121) have mixed types. Specify dtype option on import or set low_memory=False.\n",
      "  data = pd.read_csv('globalterrorismdb_0718dist.csv', encoding='latin-1').head(1000)\n"
     ]
    }
   ],
   "source": [
    "import pandas as pd\n",
    "import folium\n",
    "\n",
    "# Загрузка данных о террористических атаках\n",
    "data = pd.read_csv('globalterrorismdb_0718dist.csv', encoding='latin-1').head(1000)\n",
    "\n",
    "# Очистка данных и удаление ненужных столбцов\n",
    "cleaned_data = data[['latitude', 'longitude', 'city', 'country_txt']]\n",
    "cleaned_data = cleaned_data.dropna(subset=['latitude', 'longitude'])\n",
    "\n",
    "# Создание базовой карты Folium\n",
    "map = folium.Map(location=[cleaned_data['latitude'].mean(), cleaned_data['longitude'].mean()], zoom_start=2)\n",
    "\n",
    "# Добавление маркеров на карту для каждой террористической атаки\n",
    "# Добавление маркеров на карту для каждой террористической атаки\n",
    "for index, row in cleaned_data.iterrows():\n",
    "    latitude = str(row['latitude'])\n",
    "    longitude = str(row['longitude'])\n",
    "    popup_text = str(row['country_txt']) + ', ' + str(row['city'])\n",
    "    folium.Marker([latitude, longitude], popup=popup_text).add_to(map)\n",
    "\n",
    "# Отображение карты\n",
    "map.save('terrorism_attacks_map.html')"
   ]
  }
 ],
 "metadata": {
  "kernelspec": {
   "display_name": "Python 3",
   "language": "python",
   "name": "python3"
  },
  "language_info": {
   "codemirror_mode": {
    "name": "ipython",
    "version": 3
   },
   "file_extension": ".py",
   "mimetype": "text/x-python",
   "name": "python",
   "nbconvert_exporter": "python",
   "pygments_lexer": "ipython3",
   "version": "3.11.5"
  }
 },
 "nbformat": 4,
 "nbformat_minor": 2
}
