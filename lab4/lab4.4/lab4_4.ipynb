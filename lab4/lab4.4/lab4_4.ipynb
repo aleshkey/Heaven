{
 "cells": [
  {
   "cell_type": "code",
   "execution_count": 6,
   "metadata": {},
   "outputs": [
    {
     "name": "stdout",
     "output_type": "stream",
     "text": [
      "Min-Max Scaling:\n",
      "     sepal length (cm)  sepal width (cm)  petal length (cm)  petal width (cm)\n",
      "0             0.222222          0.625000           0.067797          0.041667\n",
      "1             0.166667          0.416667           0.067797          0.041667\n",
      "2             0.111111          0.500000           0.050847          0.041667\n",
      "3             0.083333          0.458333           0.084746          0.041667\n",
      "4             0.194444          0.666667           0.067797          0.041667\n",
      "..                 ...               ...                ...               ...\n",
      "145           0.666667          0.416667           0.711864          0.916667\n",
      "146           0.555556          0.208333           0.677966          0.750000\n",
      "147           0.611111          0.416667           0.711864          0.791667\n",
      "148           0.527778          0.583333           0.745763          0.916667\n",
      "149           0.444444          0.416667           0.694915          0.708333\n",
      "\n",
      "[150 rows x 4 columns]\n",
      "\n",
      "Z-score Standardization:\n",
      "     sepal length (cm)  sepal width (cm)  petal length (cm)  petal width (cm)\n",
      "0            -0.900681          1.019004          -1.340227         -1.315444\n",
      "1            -1.143017         -0.131979          -1.340227         -1.315444\n",
      "2            -1.385353          0.328414          -1.397064         -1.315444\n",
      "3            -1.506521          0.098217          -1.283389         -1.315444\n",
      "4            -1.021849          1.249201          -1.340227         -1.315444\n",
      "..                 ...               ...                ...               ...\n",
      "145           1.038005         -0.131979           0.819596          1.448832\n",
      "146           0.553333         -1.282963           0.705921          0.922303\n",
      "147           0.795669         -0.131979           0.819596          1.053935\n",
      "148           0.432165          0.788808           0.933271          1.448832\n",
      "149           0.068662         -0.131979           0.762758          0.790671\n",
      "\n",
      "[150 rows x 4 columns]\n"
     ]
    }
   ],
   "source": [
    "from sklearn.datasets import load_iris\n",
    "from sklearn.preprocessing import MinMaxScaler, StandardScaler\n",
    "import pandas as pd\n",
    "\n",
    "# Загрузка набора данных о цветках Ириса\n",
    "iris = load_iris()\n",
    "\n",
    "# Преобразование данных в DataFrame\n",
    "df = pd.DataFrame(data=iris.data, columns=iris.feature_names)\n",
    "\n",
    "# Мин-макс нормализация (Min-Max Scaling)\n",
    "scaler_minmax = MinMaxScaler()\n",
    "df_minmax = pd.DataFrame(scaler_minmax.fit_transform(df), columns=df.columns)\n",
    "\n",
    "# Z-нормализация (z-score standardization)\n",
    "scaler_zscore = StandardScaler()\n",
    "df_zscore = pd.DataFrame(scaler_zscore.fit_transform(df), columns=df.columns)\n",
    "\n",
    "# Вывод нормализованных данных\n",
    "print(\"Min-Max Scaling:\")\n",
    "print(df_minmax)\n",
    "print(\"\\nZ-score Standardization:\")\n",
    "print(df_zscore)"
   ]
  }
 ],
 "metadata": {
  "kernelspec": {
   "display_name": "Python 3",
   "language": "python",
   "name": "python3"
  },
  "language_info": {
   "codemirror_mode": {
    "name": "ipython",
    "version": 3
   },
   "file_extension": ".py",
   "mimetype": "text/x-python",
   "name": "python",
   "nbconvert_exporter": "python",
   "pygments_lexer": "ipython3",
   "version": "3.11.5"
  }
 },
 "nbformat": 4,
 "nbformat_minor": 2
}
