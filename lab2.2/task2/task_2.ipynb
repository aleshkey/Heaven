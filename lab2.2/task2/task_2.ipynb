{
 "cells": [
  {
   "cell_type": "code",
   "execution_count": 10,
   "metadata": {},
   "outputs": [],
   "source": [
    "import pandas as pd\n",
    "\n",
    "files = {\n",
    "    'GlobalLandTemperaturesByCity',\n",
    "    'GlobalLandTemperaturesByCountry',\n",
    "    'GlobalLandTemperaturesByMajorCity',\n",
    "    'GlobalTemperatures',\n",
    "    'GlobalLandTemperaturesByState'\n",
    "}\n",
    "\n",
    "datasets ={}\n",
    "\n",
    "for file in files:\n",
    "    datasets[file] = pd.read_csv(file+'.csv')\n"
   ]
  },
  {
   "cell_type": "code",
   "execution_count": 11,
   "metadata": {},
   "outputs": [
    {
     "name": "stdout",
     "output_type": "stream",
     "text": [
      "Все записи имеют корректные форматы дат в файле GlobalLandTemperaturesByMajorCity.\n",
      "Все записи имеют корректные форматы дат в файле GlobalLandTemperaturesByState.\n",
      "Все записи имеют корректные форматы дат в файле GlobalLandTemperaturesByCountry.\n",
      "Все записи имеют корректные форматы дат в файле GlobalLandTemperaturesByCity.\n",
      "Все записи имеют корректные форматы дат в файле GlobalTemperatures.\n"
     ]
    }
   ],
   "source": [
    "for file, df in datasets.items():\n",
    "    df['dt'] = pd.to_datetime(df['dt'], errors='coerce')\n",
    "\n",
    "    incorrect_dates = df[df['dt'].isnull()]\n",
    "    if len(incorrect_dates) > 0:\n",
    "        print(f'Найдены записи с некорректными форматами дат в файле {file}:')\n",
    "        print(incorrect_dates)\n",
    "    else:\n",
    "            print(f'Все записи имеют корректные форматы дат в файле {file}.')\n",
    "\n"
   ]
  }
 ],
 "metadata": {
  "kernelspec": {
   "display_name": "Python 3",
   "language": "python",
   "name": "python3"
  },
  "language_info": {
   "codemirror_mode": {
    "name": "ipython",
    "version": 3
   },
   "file_extension": ".py",
   "mimetype": "text/x-python",
   "name": "python",
   "nbconvert_exporter": "python",
   "pygments_lexer": "ipython3",
   "version": "3.11.5"
  }
 },
 "nbformat": 4,
 "nbformat_minor": 2
}
